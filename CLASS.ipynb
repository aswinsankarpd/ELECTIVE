{
  "nbformat": 4,
  "nbformat_minor": 0,
  "metadata": {
    "colab": {
      "name": "CLASS",
      "provenance": [],
      "collapsed_sections": [],
      "authorship_tag": "ABX9TyM8m4pcVlRFkiIAtRTJOouQ",
      "include_colab_link": true
    },
    "kernelspec": {
      "name": "python3",
      "display_name": "Python 3"
    },
    "language_info": {
      "name": "python"
    }
  },
  "cells": [
    {
      "cell_type": "markdown",
      "metadata": {
        "id": "view-in-github",
        "colab_type": "text"
      },
      "source": [
        "<a href=\"https://colab.research.google.com/github/aswinsankarpd/ELECTIVE/blob/main/CLASS.ipynb\" target=\"_parent\"><img src=\"https://colab.research.google.com/assets/colab-badge.svg\" alt=\"Open In Colab\"/></a>"
      ]
    },
    {
      "cell_type": "markdown",
      "source": [
        "#CLASS 1"
      ],
      "metadata": {
        "id": "uLh9-UVweCf6"
      }
    },
    {
      "cell_type": "code",
      "execution_count": null,
      "metadata": {
        "colab": {
          "base_uri": "https://localhost:8080/"
        },
        "id": "NbykLLtod0sU",
        "outputId": "987806a4-3770-48ad-ee92-84dd3ea608ab"
      },
      "outputs": [
        {
          "output_type": "execute_result",
          "data": {
            "text/plain": [
              "array(43)"
            ]
          },
          "metadata": {},
          "execution_count": 1
        }
      ],
      "source": [
        "import numpy as np\n",
        "arr = np.array(43)\n",
        "arr"
      ]
    },
    {
      "cell_type": "code",
      "source": [
        "arr = np.array([[[1,2,3],[4,5,6]],[[1,2,3],[4,5,6]]])\n",
        "arr"
      ],
      "metadata": {
        "colab": {
          "base_uri": "https://localhost:8080/"
        },
        "id": "Hsyo30baeUd6",
        "outputId": "13601260-0adf-4651-bf5a-bce8211ae6e4"
      },
      "execution_count": null,
      "outputs": [
        {
          "output_type": "execute_result",
          "data": {
            "text/plain": [
              "array([[[1, 2, 3],\n",
              "        [4, 5, 6]],\n",
              "\n",
              "       [[1, 2, 3],\n",
              "        [4, 5, 6]]])"
            ]
          },
          "metadata": {},
          "execution_count": 2
        }
      ]
    },
    {
      "cell_type": "code",
      "source": [
        "print(arr.ndim)"
      ],
      "metadata": {
        "id": "vPhf8zCie2Gj",
        "colab": {
          "base_uri": "https://localhost:8080/"
        },
        "outputId": "1e88f771-c8a8-46f8-99cc-7f37c5c2cf66"
      },
      "execution_count": null,
      "outputs": [
        {
          "output_type": "stream",
          "name": "stdout",
          "text": [
            "3\n"
          ]
        }
      ]
    },
    {
      "cell_type": "code",
      "source": [
        "arr = np.array([1,2,3,4,5],ndmin=5)\n",
        "arr"
      ],
      "metadata": {
        "id": "GwSIk2vjhxxK"
      },
      "execution_count": null,
      "outputs": []
    },
    {
      "cell_type": "code",
      "source": [
        "np.zeros((3,3))"
      ],
      "metadata": {
        "colab": {
          "base_uri": "https://localhost:8080/"
        },
        "id": "FRV2KKAphzCJ",
        "outputId": "87777de8-e92f-4f6b-f5b2-7d97887ae012"
      },
      "execution_count": null,
      "outputs": [
        {
          "output_type": "execute_result",
          "data": {
            "text/plain": [
              "array([[0., 0., 0.],\n",
              "       [0., 0., 0.],\n",
              "       [0., 0., 0.]])"
            ]
          },
          "metadata": {},
          "execution_count": 19
        }
      ]
    },
    {
      "cell_type": "code",
      "source": [
        "np.empty(5)"
      ],
      "metadata": {
        "colab": {
          "base_uri": "https://localhost:8080/"
        },
        "id": "HP2VfU2jh1-p",
        "outputId": "52e3d58f-26a0-4be7-c48d-739560438c13"
      },
      "execution_count": null,
      "outputs": [
        {
          "output_type": "execute_result",
          "data": {
            "text/plain": [
              "array([0., 0., 0., 0., 0.])"
            ]
          },
          "metadata": {},
          "execution_count": 21
        }
      ]
    },
    {
      "cell_type": "code",
      "source": [
        "RR = np.eye(5)\n",
        "RR"
      ],
      "metadata": {
        "colab": {
          "base_uri": "https://localhost:8080/"
        },
        "id": "ePV6HaGkiYV6",
        "outputId": "27068a31-5ae4-4f61-c34b-a63ad786de2b"
      },
      "execution_count": null,
      "outputs": [
        {
          "output_type": "execute_result",
          "data": {
            "text/plain": [
              "array([[1., 0., 0., 0., 0.],\n",
              "       [0., 1., 0., 0., 0.],\n",
              "       [0., 0., 1., 0., 0.],\n",
              "       [0., 0., 0., 1., 0.],\n",
              "       [0., 0., 0., 0., 1.]])"
            ]
          },
          "metadata": {},
          "execution_count": 23
        }
      ]
    },
    {
      "cell_type": "code",
      "source": [
        "np.arange(1,100,10)"
      ],
      "metadata": {
        "colab": {
          "base_uri": "https://localhost:8080/"
        },
        "id": "Zq2dJrp1iauB",
        "outputId": "fb038be3-c271-4070-8f4d-85945179c31a"
      },
      "execution_count": null,
      "outputs": [
        {
          "output_type": "execute_result",
          "data": {
            "text/plain": [
              "array([ 1, 11, 21, 31, 41, 51, 61, 71, 81, 91])"
            ]
          },
          "metadata": {},
          "execution_count": 25
        }
      ]
    },
    {
      "cell_type": "code",
      "source": [
        "np.linspace(1,10,10)"
      ],
      "metadata": {
        "colab": {
          "base_uri": "https://localhost:8080/"
        },
        "id": "6fE6y_zHj5rx",
        "outputId": "8bd14f63-5a54-46d8-f3eb-8a9ecf577381"
      },
      "execution_count": null,
      "outputs": [
        {
          "output_type": "execute_result",
          "data": {
            "text/plain": [
              "array([ 1.,  2.,  3.,  4.,  5.,  6.,  7.,  8.,  9., 10.])"
            ]
          },
          "metadata": {},
          "execution_count": 26
        }
      ]
    },
    {
      "cell_type": "code",
      "source": [
        "np.random.rand(5)"
      ],
      "metadata": {
        "colab": {
          "base_uri": "https://localhost:8080/"
        },
        "id": "bcTufxRsj806",
        "outputId": "46fd5e35-8c79-4ee1-dbb6-cb0cb3cf315b"
      },
      "execution_count": null,
      "outputs": [
        {
          "output_type": "execute_result",
          "data": {
            "text/plain": [
              "array([0.67119497, 0.60910403, 0.72474445, 0.30565727, 0.05194437])"
            ]
          },
          "metadata": {},
          "execution_count": 27
        }
      ]
    },
    {
      "cell_type": "code",
      "source": [
        "np.random.randint(100)"
      ],
      "metadata": {
        "colab": {
          "base_uri": "https://localhost:8080/"
        },
        "id": "00w-6EXelTmp",
        "outputId": "2253e66d-d228-4eea-c9f4-3baa5178b6b6"
      },
      "execution_count": null,
      "outputs": [
        {
          "output_type": "execute_result",
          "data": {
            "text/plain": [
              "9"
            ]
          },
          "metadata": {},
          "execution_count": 45
        }
      ]
    },
    {
      "cell_type": "code",
      "source": [
        "import timeit\n",
        "\n",
        "print(timeit.timeit('output = 10*5'))"
      ],
      "metadata": {
        "colab": {
          "base_uri": "https://localhost:8080/"
        },
        "id": "ygzNzybFmtSZ",
        "outputId": "728a3717-abe6-4c33-a360-e6ad1a0e5b0d"
      },
      "execution_count": null,
      "outputs": [
        {
          "output_type": "stream",
          "name": "stdout",
          "text": [
            "0.19203917999993791\n"
          ]
        }
      ]
    },
    {
      "cell_type": "markdown",
      "source": [
        "##H.W Find the time taken to compute the sum of the first 10 numbers using timeit \n"
      ],
      "metadata": {
        "id": "E9E1JwTxnJqL"
      }
    },
    {
      "cell_type": "code",
      "source": [
        "import timeit\n",
        "code ='''\n",
        "sum=0\n",
        "for i in range(1,11):\n",
        "  sum+=i\n",
        "'''\n",
        "\n",
        "print (timeit.timeit(\n",
        "                    stmt = code,\n",
        "                     number = 1))\n"
      ],
      "metadata": {
        "colab": {
          "base_uri": "https://localhost:8080/"
        },
        "id": "TydrK5bynUd5",
        "outputId": "1b63d842-1dcc-46ce-bf9b-222087d53278"
      },
      "execution_count": null,
      "outputs": [
        {
          "output_type": "stream",
          "name": "stdout",
          "text": [
            "55\n",
            "0.0018068780000248807\n"
          ]
        }
      ]
    },
    {
      "cell_type": "code",
      "source": [
        "arr = np.array([1,2,3,4,5,6,7,8,9,10])\n",
        "print(arr.reshape(2,5))"
      ],
      "metadata": {
        "colab": {
          "base_uri": "https://localhost:8080/"
        },
        "id": "cdKB07waoXba",
        "outputId": "50e71f05-2e3f-44fb-b3e6-37f2d0227679"
      },
      "execution_count": null,
      "outputs": [
        {
          "output_type": "stream",
          "name": "stdout",
          "text": [
            "[[ 1  2  3  4  5]\n",
            " [ 6  7  8  9 10]]\n"
          ]
        }
      ]
    },
    {
      "cell_type": "markdown",
      "source": [
        "#CLASS3"
      ],
      "metadata": {
        "id": "kgYygsCFgKTw"
      }
    },
    {
      "cell_type": "code",
      "source": [
        "# Numpy Arithmetic Operations\n",
        "x=np.array([[1,2],[3,4]], dtype=np.float64)\n",
        "y=np.array([[5,6],[7,8]], dtype=np.float64)\n",
        "print(x)\n",
        "print(y)\n",
        "print(x+y)\n",
        "print(np.add(x,y))"
      ],
      "metadata": {
        "id": "MAen6zbymQMJ"
      },
      "execution_count": null,
      "outputs": []
    },
    {
      "cell_type": "code",
      "source": [
        "# numpy.add()- performs elementwise addition between two arrays \n",
        "# Syntax: numpy.add(array_1,array_2)\n",
        "a = np.array([[1,2,3], [4,5,6],[7,8,9]])\n",
        "b = np.arange(start=11, stop=20).reshape(3,3)\n",
        "# b = np.arange(start=11, stop=20)\n",
        "print(a)\n",
        "print(b)\n",
        "print(np.add(a,b))"
      ],
      "metadata": {
        "id": "zMRNiK23mSVo"
      },
      "execution_count": null,
      "outputs": []
    },
    {
      "cell_type": "code",
      "source": [
        "print(x-y)\n",
        "print(np.subtract(x,y))"
      ],
      "metadata": {
        "id": "rRkZ4hvjmT-n"
      },
      "execution_count": null,
      "outputs": []
    },
    {
      "cell_type": "code",
      "source": [
        "print(x*y)\n",
        "print(np.multiply(x,y))\n",
        "# Performs elementwise multiplication  between two matrices"
      ],
      "metadata": {
        "id": "PzTcjfF1mVmA"
      },
      "execution_count": null,
      "outputs": []
    },
    {
      "cell_type": "code",
      "source": [
        "# numpy.dot(vector_a, vector_b, out = None) returns the dot product of vectors a and b.\n",
        "print(x.dot(y))\n",
        "print(np.dot(x,y))\n",
        "# Performs matrix multiplication between two matrices"
      ],
      "metadata": {
        "id": "XNz56WdXmXMX"
      },
      "execution_count": null,
      "outputs": []
    },
    {
      "cell_type": "code",
      "source": [
        "arr1 = np.array([[1,2,3,4],[8,9,10,11]])  \n",
        "arr1"
      ],
      "metadata": {
        "id": "IIRWEmuwmZho"
      },
      "execution_count": null,
      "outputs": []
    },
    {
      "cell_type": "code",
      "source": [
        "arr1*arr1"
      ],
      "metadata": {
        "id": "KHuKfOw7mbFX"
      },
      "execution_count": null,
      "outputs": []
    },
    {
      "cell_type": "code",
      "source": [
        "arr1-arr1"
      ],
      "metadata": {
        "id": "YcR8l-timckn"
      },
      "execution_count": null,
      "outputs": []
    },
    {
      "cell_type": "code",
      "source": [
        "1/arr1"
      ],
      "metadata": {
        "id": "qmX1sDxKmeAg"
      },
      "execution_count": null,
      "outputs": []
    },
    {
      "cell_type": "code",
      "source": [
        "arr1 **3"
      ],
      "metadata": {
        "id": "w6oDlnjImfjI"
      },
      "execution_count": null,
      "outputs": []
    },
    {
      "cell_type": "markdown",
      "source": [
        "# To Compute sum of all elements"
      ],
      "metadata": {
        "id": "3ukLAIbLmhn5"
      }
    },
    {
      "cell_type": "code",
      "source": [
        "print(x)\n",
        "print(np.sum(x))"
      ],
      "metadata": {
        "id": "c1buBSm6mioR"
      },
      "execution_count": null,
      "outputs": []
    },
    {
      "cell_type": "code",
      "source": [
        "# Compute sum of each rows\n",
        "print(np.sum(x, axis=0))"
      ],
      "metadata": {
        "id": "phUTwBwCmk95"
      },
      "execution_count": null,
      "outputs": []
    },
    {
      "cell_type": "code",
      "source": [
        "# Compute sum of each column\n",
        "print(np.sum(x, axis=1))"
      ],
      "metadata": {
        "id": "TTxI8JkVmmez"
      },
      "execution_count": null,
      "outputs": []
    },
    {
      "cell_type": "markdown",
      "source": [
        "# Accessing components of an array: Components of an array can be accessed using index number"
      ],
      "metadata": {
        "id": "YeZWD7jpmoDh"
      }
    },
    {
      "cell_type": "code",
      "source": [
        "arr = np.arange(0,11,1)\n",
        "arr"
      ],
      "metadata": {
        "id": "mCoPZgo_mojR"
      },
      "execution_count": null,
      "outputs": []
    },
    {
      "cell_type": "code",
      "source": [
        "arr[8]"
      ],
      "metadata": {
        "id": "qAsoU9cims65"
      },
      "execution_count": null,
      "outputs": []
    },
    {
      "cell_type": "code",
      "source": [
        "arr[1:5]"
      ],
      "metadata": {
        "id": "qqejyzDdmuHJ"
      },
      "execution_count": null,
      "outputs": []
    },
    {
      "cell_type": "code",
      "source": [
        "arr[0:5]"
      ],
      "metadata": {
        "id": "CyHZqt7Emvd5"
      },
      "execution_count": null,
      "outputs": []
    },
    {
      "cell_type": "code",
      "source": [
        "arr[0:5] =100\n",
        "arr"
      ],
      "metadata": {
        "id": "Iu3FRq5Umw75"
      },
      "execution_count": null,
      "outputs": []
    },
    {
      "cell_type": "code",
      "source": [
        "arr = np.arange(0,11)\n",
        "arr"
      ],
      "metadata": {
        "id": "mcY-lpHmmyR4"
      },
      "execution_count": null,
      "outputs": []
    },
    {
      "cell_type": "code",
      "source": [
        ""
      ],
      "metadata": {
        "id": "Ni06mvJIm1aJ"
      },
      "execution_count": null,
      "outputs": []
    },
    {
      "cell_type": "code",
      "source": [
        "# Two matrices are initialized by value\n",
        "x = np.array([[1, 2], [4, 5]])\n",
        "y = np.array([[7, 8], [9, 10]])\n",
        "#  add()is used to add matrices\n",
        "print (\"Addition of two matrices: \")\n",
        "print (np.add(x,y))\n",
        "# subtract()is used to subtract matrices\n",
        "print (\"Subtraction of two matrices : \")\n",
        "print (np.subtract(x,y))\n",
        "# divide()is used to divide matrices\n",
        "# Performs elementwise division between two matrix\n",
        "print (\"Matrix Division : \")\n",
        "print (np.divide(x,y))\n",
        "print (\"Multiplication of two matrices: \")\n",
        "print (np.multiply(x,y))\n",
        "print (\"The product of two matrices : \")\n",
        "print (np.dot(x,y))\n",
        "print (\"square root is : \")\n",
        "print (np.sqrt(x))\n",
        "print (\"The summation of elements : \")\n",
        "print (np.sum(y))\n",
        "print (\"The column wise summation  : \")\n",
        "print (np.sum(y,axis=0))\n",
        "print (\"The row wise summation: \")\n",
        "print (np.sum(y,axis=1))\n",
        "# using \"T\" to transpose the matrix\n",
        "print (\"Matrix transposition : \")\n",
        "print (x.T)"
      ],
      "metadata": {
        "id": "I5u-4jRam1ew"
      },
      "execution_count": null,
      "outputs": []
    },
    {
      "cell_type": "markdown",
      "source": [
        "#PLOTTING"
      ],
      "metadata": {
        "id": "OnHQ2hSPm4Rp"
      }
    },
    {
      "cell_type": "code",
      "source": [
        "# modify array using delete function\n",
        "import numpy as np\n",
        "A = np.matrix(\"3,1,2;3,2,5;6,7,8\")\n",
        "A = np.matrix(\"2,-1,3\")"
      ],
      "metadata": {
        "id": "FD32U-E0gMs5"
      },
      "execution_count": 3,
      "outputs": []
    },
    {
      "cell_type": "code",
      "source": [
        "import matplotlib.pyplot as plt\n",
        "y = np.array([3,8,1,10])\n",
        "plt.plot(y,'o:r')"
      ],
      "metadata": {
        "colab": {
          "base_uri": "https://localhost:8080/",
          "height": 282
        },
        "id": "o2ry_dxTlU0Y",
        "outputId": "f1fb0095-645c-4280-ca8f-18d8ee4d52ec"
      },
      "execution_count": 4,
      "outputs": [
        {
          "output_type": "execute_result",
          "data": {
            "text/plain": [
              "[<matplotlib.lines.Line2D at 0x7f59bc415ed0>]"
            ]
          },
          "metadata": {},
          "execution_count": 4
        },
        {
          "output_type": "display_data",
          "data": {
            "text/plain": [
              "<Figure size 432x288 with 1 Axes>"
            ],
            "image/png": "[encoded data removed]"
          },
          "metadata": {
            "needs_background": "light"
          }
        }
      ]
    },
    {
      "cell_type": "code",
      "source": [
        "plt.plot(y,'o:r',ms=7)"
      ],
      "metadata": {
        "colab": {
          "base_uri": "https://localhost:8080/",
          "height": 282
        },
        "id": "pJW0D8O3lSqJ",
        "outputId": "5c5f9f48-c8ad-4d9f-bad3-7649d62e574a"
      },
      "execution_count": 5,
      "outputs": [
        {
          "output_type": "execute_result",
          "data": {
            "text/plain": [
              "[<matplotlib.lines.Line2D at 0x7f59b6284210>]"
            ]
          },
          "metadata": {},
          "execution_count": 5
        },
        {
          "output_type": "display_data",
          "data": {
            "text/plain": [
              "<Figure size 432x288 with 1 Axes>"
            ],
            "image/png": "[encoded data removed]"
          },
          "metadata": {
            "needs_background": "light"
          }
        }
      ]
    },
    {
      "cell_type": "code",
      "source": [
        "plt.plot(y,'o:r',ls=\":\")"
      ],
      "metadata": {
        "colab": {
          "base_uri": "https://localhost:8080/",
          "height": 282
        },
        "id": "k98doxdFnVSi",
        "outputId": "c619b1f5-74d6-4fa6-d39c-d97525e51a11"
      },
      "execution_count": 6,
      "outputs": [
        {
          "output_type": "execute_result",
          "data": {
            "text/plain": [
              "[<matplotlib.lines.Line2D at 0x7f59b6178c90>]"
            ]
          },
          "metadata": {},
          "execution_count": 6
        },
        {
          "output_type": "display_data",
          "data": {
            "text/plain": [
              "<Figure size 432x288 with 1 Axes>"
            ],
            "image/png": "[encoded data removed]"
          },
          "metadata": {
            "needs_background": "light"
          }
        }
      ]
    },
    {
      "cell_type": "code",
      "source": [
        ""
      ],
      "metadata": {
        "id": "sLKDU0Kyn9xB"
      },
      "execution_count": 7,
      "outputs": []
    }
  ]
}